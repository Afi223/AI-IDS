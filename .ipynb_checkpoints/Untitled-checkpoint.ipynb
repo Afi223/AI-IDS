{
 "cells": [
  {
   "cell_type": "code",
   "execution_count": null,
   "id": "90e273bf-fe0f-4c68-ab5f-f59c70320adb",
   "metadata": {},
   "outputs": [],
   "source": []
  }
 ],
 "metadata": {
  "kernelspec": {
   "display_name": "Python 3 (ipykernel)",
   "language": "python",
   "name": "python3"
  },
  "language_info": {
   "codemirror_mode": {
    "name": "ipython",
    "version": 3
   },
   "file_extension": ".py",
   "mimetype": "text/x-python",
   "name": "python",
   "nbconvert_exporter": "python",
   "pygments_lexer": "ipython3",
   "version": "3.13.7"
  }
 },
 "nbformat": 4,
 "nbformat_minor": 5
}
